{
 "cells": [
  {
   "cell_type": "markdown",
   "metadata": {},
   "source": [
    "# Titanic\n",
    "\n",
    "\n",
    "\n",
    "\n",
    "## 1. 熟悉数据\n",
    "\n",
    "* 数据来源：[Kaggle](https://www.kaggle.com/c/titanic/data)\n",
    "+ 数据变量：\n",
    " - survival : Survival (0 = No, 1 = Yes)\n",
    " - pclass : Ticket class (1 = 1st, 2 = 2nd, 3 = 3rd)\n",
    " - sex : Sex\n",
    " - Age : Age in years\n",
    " - sibsp : # of siblings / spouses aboard the Titanic\n",
    " - parch : # of parents / children aboard the Titanic\n",
    " - ticket : Ticket number \n",
    " - fare : Passenger fare\n",
    " - cabin: Cabin number\n",
    " - embarkedPort of Embarkation : C = Cherbourg, Q = Queenstown, S = Southampton\n",
    "+ 变量备注：\n",
    " - pclass : 社会经济地位(1st = upper，2nd = middle，3rd = Lower)\n",
    " - age : 如果年龄小于1，则Age为分数；如果年龄是估计的，则Age表示为xx.5\n",
    " - sibsp : 定义家庭关系(Sibling = brother, sister, stepbrother, stepsister ; Spouse = husband, wife (mistresses and fiancés were ignored) )\n",
    " - parch : 定义家庭关系( Parent = mother, father; Child = daughter, son, stepdaughter, stepson; Some children travelled only with a nanny, therefore parch=0 for them.)\n"
   ]
  },
  {
   "cell_type": "markdown",
   "metadata": {},
   "source": [
    "## 2. 提出问题\n",
    "+ 哪些变量会让船上的人生存率更高？\n",
    " - 性别？经济地位？年龄？福利？\n",
    " - 哪个年龄段的乘客生还率更高？\n",
    " - 以上几个因素是否有相关性？"
   ]
  },
  {
   "cell_type": "markdown",
   "metadata": {},
   "source": [
    "## 3. 数据采集和数据清理"
   ]
  },
  {
   "cell_type": "code",
   "execution_count": 1,
   "metadata": {},
   "outputs": [
    {
     "name": "stdout",
     "output_type": "stream",
     "text": [
      "Populating the interactive namespace from numpy and matplotlib\n"
     ]
    }
   ],
   "source": [
    "#### 导入必要的包  #####\n",
    "\n",
    "%pylab inline\n",
    "import matplotlib.pyplot as plt\n",
    "import numpy as np\n",
    "import pandas as pd\n",
    "import seaborn as sns"
   ]
  },
  {
   "cell_type": "code",
   "execution_count": 3,
   "metadata": {
    "scrolled": false
   },
   "outputs": [],
   "source": [
    "# 使用Pandas 读取csv数据文件\n",
    "titanic_df = pd.read_csv('titanic-data.csv')"
   ]
  },
  {
   "cell_type": "code",
   "execution_count": 5,
   "metadata": {
    "scrolled": true
   },
   "outputs": [
    {
     "name": "stdout",
     "output_type": "stream",
     "text": [
      "<class 'pandas.core.frame.DataFrame'>\n",
      "RangeIndex: 891 entries, 0 to 890\n",
      "Data columns (total 12 columns):\n",
      "PassengerId    891 non-null int64\n",
      "Survived       891 non-null int64\n",
      "Pclass         891 non-null int64\n",
      "Name           891 non-null object\n",
      "Sex            891 non-null object\n",
      "Age            714 non-null float64\n",
      "SibSp          891 non-null int64\n",
      "Parch          891 non-null int64\n",
      "Ticket         891 non-null object\n",
      "Fare           891 non-null float64\n",
      "Cabin          204 non-null object\n",
      "Embarked       889 non-null object\n",
      "dtypes: float64(2), int64(5), object(5)\n",
      "memory usage: 83.6+ KB\n"
     ]
    }
   ],
   "source": [
    "# 数据整理，检查缺省值\n",
    "titanic_df.info()"
   ]
  },
  {
   "cell_type": "markdown",
   "metadata": {},
   "source": [
    "###### 变量 Age 和 Cabin存在缺失值，查看数据时发现有部分乘客的年龄未知"
   ]
  },
  {
   "cell_type": "markdown",
   "metadata": {},
   "source": [
    "## 4. 数据探索"
   ]
  },
  {
   "cell_type": "markdown",
   "metadata": {},
   "source": [
    "### 4.1  性别与生还率的关系\n",
    "* 样本中的乘客性别分布"
   ]
  },
  {
   "cell_type": "code",
   "execution_count": 6,
   "metadata": {
    "scrolled": true
   },
   "outputs": [
    {
     "data": {
      "image/png": "[encoded data removed]",
      "text/plain": [
       "<matplotlib.figure.Figure at 0x7e82b00>"
      ]
     },
     "metadata": {},
     "output_type": "display_data"
    }
   ],
   "source": [
    "# 样本中的乘客性别分布\n",
    "titanic_df.groupby('Sex')['PassengerId'].count().plot(kind = 'pie', autopct = '%.0f%%')\n",
    "plt.title('Sex Vs Count')\n",
    "plt.show()"
   ]
  },
  {
   "cell_type": "markdown",
   "metadata": {},
   "source": [
    "###### 样本中891名乘客有65%是男性，35%是女性"
   ]
  },
  {
   "cell_type": "markdown",
   "metadata": {},
   "source": [
    "* 生还的乘客的性别分布"
   ]
  },
  {
   "cell_type": "code",
   "execution_count": 7,
   "metadata": {
    "scrolled": true
   },
   "outputs": [
    {
     "data": {
      "image/png": "[encoded data removed]",
      "text/plain": [
       "<matplotlib.figure.Figure at 0xe3c4cf8>"
      ]
     },
     "metadata": {},
     "output_type": "display_data"
    }
   ],
   "source": [
    "# 生还的乘客的性别\n",
    "titanic_df.groupby('Sex').sum()['Survived'].plot(kind = 'pie', autopct = '%.0f%%')\n",
    "plt.title('Sex Vs Survived')\n",
    "plt.show()\n"
   ]
  },
  {
   "cell_type": "markdown",
   "metadata": {},
   "source": [
    "######  而在存活的乘客中，68%是女性，32%是男性"
   ]
  },
  {
   "cell_type": "code",
   "execution_count": 8,
   "metadata": {},
   "outputs": [
    {
     "data": {
      "image/png": "[encoded data removed]",
      "text/plain": [
       "<matplotlib.figure.Figure at 0xe491ef0>"
      ]
     },
     "metadata": {},
     "output_type": "display_data"
    }
   ],
   "source": [
    "#  存活率比较 \n",
    "titanic_df.groupby('Sex').mean()['Survived'].plot(kind = 'bar')\n",
    "plt.title('Sex Vs Survival Rate')\n",
    "plt.ylabel(\"Survival Rate\")\n",
    "plt.show()"
   ]
  },
  {
   "cell_type": "markdown",
   "metadata": {},
   "source": [
    " ###### 从上面的数据分析可以说明，女性的平均生还率要远高于男性"
   ]
  },
  {
   "cell_type": "markdown",
   "metadata": {},
   "source": [
    "### 4.2 年龄与生还率的关系"
   ]
  },
  {
   "cell_type": "code",
   "execution_count": 9,
   "metadata": {
    "collapsed": true
   },
   "outputs": [],
   "source": [
    "# 由于上面发现Age 有缺省值。我们需要对这部分进行清理，将年龄不明的清除掉\n",
    "titanic_df['Age'] = titanic_df['Age'].dropna()"
   ]
  },
  {
   "cell_type": "code",
   "execution_count": 10,
   "metadata": {
    "scrolled": false
   },
   "outputs": [
    {
     "data": {
      "text/html": [
       "<div>\n",
       "<style>\n",
       "    .dataframe thead tr:only-child th {\n",
       "        text-align: right;\n",
       "    }\n",
       "\n",
       "    .dataframe thead th {\n",
       "        text-align: left;\n",
       "    }\n",
       "\n",
       "    .dataframe tbody tr th {\n",
       "        vertical-align: top;\n",
       "    }\n",
       "</style>\n",
       "<table border=\"1\" class=\"dataframe\">\n",
       "  <thead>\n",
       "    <tr style=\"text-align: right;\">\n",
       "      <th></th>\n",
       "      <th>count</th>\n",
       "      <th>mean</th>\n",
       "      <th>std</th>\n",
       "      <th>min</th>\n",
       "      <th>25%</th>\n",
       "      <th>50%</th>\n",
       "      <th>75%</th>\n",
       "      <th>max</th>\n",
       "    </tr>\n",
       "    <tr>\n",
       "      <th>Survived</th>\n",
       "      <th></th>\n",
       "      <th></th>\n",
       "      <th></th>\n",
       "      <th></th>\n",
       "      <th></th>\n",
       "      <th></th>\n",
       "      <th></th>\n",
       "      <th></th>\n",
       "    </tr>\n",
       "  </thead>\n",
       "  <tbody>\n",
       "    <tr>\n",
       "      <th>0</th>\n",
       "      <td>424.0</td>\n",
       "      <td>30.626179</td>\n",
       "      <td>14.172110</td>\n",
       "      <td>1.00</td>\n",
       "      <td>21.0</td>\n",
       "      <td>28.0</td>\n",
       "      <td>39.0</td>\n",
       "      <td>74.0</td>\n",
       "    </tr>\n",
       "    <tr>\n",
       "      <th>1</th>\n",
       "      <td>290.0</td>\n",
       "      <td>28.343690</td>\n",
       "      <td>14.950952</td>\n",
       "      <td>0.42</td>\n",
       "      <td>19.0</td>\n",
       "      <td>28.0</td>\n",
       "      <td>36.0</td>\n",
       "      <td>80.0</td>\n",
       "    </tr>\n",
       "  </tbody>\n",
       "</table>\n",
       "</div>"
      ],
      "text/plain": [
       "          count       mean        std   min   25%   50%   75%   max\n",
       "Survived                                                           \n",
       "0         424.0  30.626179  14.172110  1.00  21.0  28.0  39.0  74.0\n",
       "1         290.0  28.343690  14.950952  0.42  19.0  28.0  36.0  80.0"
      ]
     },
     "execution_count": 10,
     "metadata": {},
     "output_type": "execute_result"
    }
   ],
   "source": [
    "# 平均存活的年龄\n",
    "titanic_df.groupby('Survived').describe()['Age']"
   ]
  },
  {
   "cell_type": "markdown",
   "metadata": {},
   "source": [
    "###### 看起来生还的乘客平均年龄要小一些，但是差异不明显，因此我们需要对不同年龄段分组，讨论相关存活率"
   ]
  },
  {
   "cell_type": "code",
   "execution_count": 11,
   "metadata": {
    "collapsed": true
   },
   "outputs": [],
   "source": [
    "#  对不同年龄段分组，10年为一段\n",
    "bins = np.arange(0, 90, 10)\n",
    "titanic_df['Age_group'] = pd.cut(titanic_df['Age'], bins)"
   ]
  },
  {
   "cell_type": "code",
   "execution_count": 12,
   "metadata": {
    "scrolled": true
   },
   "outputs": [
    {
     "data": {
      "image/png": "[encoded data removed]",
      "text/plain": [
       "<matplotlib.figure.Figure at 0xe4e4ef0>"
      ]
     },
     "metadata": {},
     "output_type": "display_data"
    }
   ],
   "source": [
    "# 各个年龄段的乘客数量分布\n",
    "titanic_df.groupby('Age_group')['PassengerId'].count().plot(kind = 'bar')\n",
    "plt.title(\"Age VS Count\")\n",
    "plt.ylabel('Count')\n",
    "plt.show()"
   ]
  },
  {
   "cell_type": "markdown",
   "metadata": {},
   "source": [
    "###### 主要年龄段集中在20-30 这个范围"
   ]
  },
  {
   "cell_type": "code",
   "execution_count": 13,
   "metadata": {
    "scrolled": false
   },
   "outputs": [
    {
     "data": {
      "image/png": "[encoded data removed]",
      "text/plain": [
       "<matplotlib.figure.Figure at 0xe8484e0>"
      ]
     },
     "metadata": {},
     "output_type": "display_data"
    }
   ],
   "source": [
    "#  分组后发现有缺省值，作图时自动过滤掉这里可以忽视\n",
    "# 计算不同年龄段的存活率\n",
    "titanic_df.groupby('Age_group')['Survived'].mean().plot(kind = 'bar')\n",
    "plt.title(\"Age VS Survuval Rate\")\n",
    "plt.ylabel('Survaval Rate')\n",
    "plt.show()"
   ]
  },
  {
   "cell_type": "markdown",
   "metadata": {},
   "source": [
    "###### 从上表和图明显看出 0-10岁 年龄段生存率明显高于其他年龄段，而60-80年龄段生存率明显低于其他组"
   ]
  },
  {
   "cell_type": "markdown",
   "metadata": {},
   "source": [
    "### 4.3 社会经济地位与生还率的关系"
   ]
  },
  {
   "cell_type": "markdown",
   "metadata": {},
   "source": [
    "* 提取不同阶层的乘客的生还信息"
   ]
  },
  {
   "cell_type": "code",
   "execution_count": 14,
   "metadata": {
    "scrolled": false
   },
   "outputs": [
    {
     "data": {
      "image/png": "[encoded data removed]",
      "text/plain": [
       "<matplotlib.figure.Figure at 0xeae03c8>"
      ]
     },
     "metadata": {},
     "output_type": "display_data"
    }
   ],
   "source": [
    "# '不同阶层的乘客总数'\n",
    "titanic_df.groupby('Pclass')['PassengerId'].count().plot(kind = 'pie', autopct = '%.0f%%')\n",
    "plt.title('Pclass VS Count')\n",
    "plt.show()"
   ]
  },
  {
   "cell_type": "markdown",
   "metadata": {},
   "source": [
    "###### 样本乘客中第三阶层的乘客占比最多，第一第二阶层乘客人数相当"
   ]
  },
  {
   "cell_type": "code",
   "execution_count": 15,
   "metadata": {
    "scrolled": true
   },
   "outputs": [
    {
     "data": {
      "image/png": "[encoded data removed]",
      "text/plain": [
       "<matplotlib.figure.Figure at 0xeaf2f60>"
      ]
     },
     "metadata": {},
     "output_type": "display_data"
    }
   ],
   "source": [
    "# 不同阶层乘客生存率\n",
    "titanic_df.groupby('Pclass')['Survived'].mean().plot(kind = 'pie', autopct = '%.0f%%')\n",
    "plt.title('Pclass VS Survived')\n",
    "plt.show()"
   ]
  },
  {
   "cell_type": "markdown",
   "metadata": {},
   "source": [
    "######  结果是社会经济地位在一层的乘客生存率最高，而第三阶层最低，只占有18%！\n",
    "###### 从以上数据看出，阶层差异明显，平均生还人数逐级递减，上层与下层生还率差异巨大！"
   ]
  },
  {
   "cell_type": "markdown",
   "metadata": {},
   "source": [
    "### 4.4  家庭关系与生还率的关系"
   ]
  },
  {
   "cell_type": "code",
   "execution_count": 16,
   "metadata": {
    "collapsed": true
   },
   "outputs": [],
   "source": [
    "# 整理家庭关系数据，如果大于2，则归在一起\n",
    "def sort_ralation(data):\n",
    "    if data > 2:\n",
    "        return '> 2'\n",
    "    else:\n",
    "        return data"
   ]
  },
  {
   "cell_type": "code",
   "execution_count": 17,
   "metadata": {},
   "outputs": [
    {
     "data": {
      "text/plain": [
       "Sort_SibSp\n",
       "0      608\n",
       "1      209\n",
       "2       28\n",
       "> 2     46\n",
       "Name: PassengerId, dtype: int64"
      ]
     },
     "execution_count": 17,
     "metadata": {},
     "output_type": "execute_result"
    }
   ],
   "source": [
    "# SibSp\n",
    "titanic_df['Sort_SibSp'] = titanic_df['SibSp'].apply(sort_ralation)\n",
    "titanic_df.groupby('Sort_SibSp')['PassengerId'].count()"
   ]
  },
  {
   "cell_type": "code",
   "execution_count": 18,
   "metadata": {},
   "outputs": [
    {
     "data": {
      "text/plain": [
       "Sort_Parch\n",
       "0      678\n",
       "1      118\n",
       "2       80\n",
       "> 2     15\n",
       "Name: PassengerId, dtype: int64"
      ]
     },
     "execution_count": 18,
     "metadata": {},
     "output_type": "execute_result"
    }
   ],
   "source": [
    "# Parch\n",
    "titanic_df['Sort_Parch'] = titanic_df['Parch'].apply(sort_ralation)\n",
    "titanic_df.groupby('Sort_Parch')['PassengerId'].count()"
   ]
  },
  {
   "cell_type": "code",
   "execution_count": 19,
   "metadata": {
    "scrolled": false
   },
   "outputs": [
    {
     "data": {
      "image/png": "[encoded data removed]",
      "text/plain": [
       "<matplotlib.figure.Figure at 0xe7ffda0>"
      ]
     },
     "metadata": {},
     "output_type": "display_data"
    }
   ],
   "source": [
    "# 乘客的家庭关系分布\n",
    "# SibSp\n",
    "titanic_df.groupby('Sort_SibSp')['PassengerId'].count().plot(kind = 'pie'  , autopct = '%.0f%%', pctdistance=0.8)\n",
    "plt.title('SibSp VS Count')\n",
    "plt.show()"
   ]
  },
  {
   "cell_type": "code",
   "execution_count": 20,
   "metadata": {
    "scrolled": false
   },
   "outputs": [
    {
     "data": {
      "image/png": "[encoded data removed]",
      "text/plain": [
       "<matplotlib.figure.Figure at 0x2ec0390>"
      ]
     },
     "metadata": {},
     "output_type": "display_data"
    }
   ],
   "source": [
    "# Parch\n",
    "titanic_df.groupby('Sort_Parch')['PassengerId'].count().plot(kind = 'pie' , autopct = '%.0f%%', pctdistance=0.8 )\n",
    "plt.title('Parch VS Count')\n",
    "plt.show()"
   ]
  },
  {
   "cell_type": "markdown",
   "metadata": {},
   "source": [
    "######  大部分乘客不存在家庭关系，其他的含家庭关系的乘客数量太少，不合适分析"
   ]
  },
  {
   "cell_type": "markdown",
   "metadata": {},
   "source": [
    "## 5. 结论\n",
    "\n",
    "+ 影响乘客生还的因素有年龄、性别、经济地位\n",
    " -  其中性别在较些因素差异大，女性平均生还人数明显高于男性\n",
    " -  其次是经济地位，经济地位越高，生还的可能性越大\n",
    " -  还有一个是年龄，儿童平均生还人数要比其他年龄段高\n",
    "+ 试猜测原因？\n",
    " - 女性、儿童生还率高可能是由于当时救援政策（女人，小孩优先救援）\n",
    " - 经济地位比较好理解，他们拥有更多的财富和优越的条件，在救援中可能获得优先待遇\n",
    "+ 本次分析存在的限制\n",
    " - 报告选取的并不是所有乘客的数据，总体大小为2224，样本大小为891\n",
    " - 虽然样本可能会存在偏差，但是我们的样本相对于总体大小足够大，我们的分析相对而言是有说服力的\n",
    " - 多个因素可能有相互关联的影响，我们处理数据时没有同时控制这些因素，这里可能存在不确定性\n",
    " - 有没有其他因素？当然有，比如乘客自身的身体健康状况，乘客的国籍（或许有？），等等~~"
   ]
  }
 ],
 "metadata": {
  "kernelspec": {
   "display_name": "Python 3",
   "language": "python",
   "name": "python3"
  },
  "language_info": {
   "codemirror_mode": {
    "name": "ipython",
    "version": 3
   },
   "file_extension": ".py",
   "mimetype": "text/x-python",
   "name": "python",
   "nbconvert_exporter": "python",
   "pygments_lexer": "ipython3",
   "version": "3.6.3"
  }
 },
 "nbformat": 4,
 "nbformat_minor": 2
}
